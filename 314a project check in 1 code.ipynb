{
 "cells": [
  {
   "cell_type": "code",
   "execution_count": 75,
   "id": "b99fdbb6-ab55-49bb-b430-6bdaa086b579",
   "metadata": {},
   "outputs": [],
   "source": [
    "import pandas as pd\n",
    "import re"
   ]
  },
  {
   "cell_type": "markdown",
   "id": "5bee0b85-2bba-48e7-bf5e-82c665fabdd2",
   "metadata": {},
   "source": [
    "column names:\n",
    "- cmte_id: Committee ID, a unique identifier for the political committee receiving the contribution.\n",
    "- cand_id: Candidate ID, a unique identifier for the candidate the contribution is associated with.\n",
    "- cand_nm: Candidate Name, the name of the candidate receiving the contribution.\n",
    "- contbr_nm: Contributor Name, the name of the person or entity making the contribution.\n",
    "- contbr_city: Contributor City, the city where the contributor is located.\n",
    "- contbr_st: Contributor State, the state where the contributor is located.\n",
    "- contbr_zip: Contributor ZIP Code, the ZIP code of the contributor's location.\n",
    "- contbr_employer: Contributor Employer, the employer of the contributor, if provided.\n",
    "- contbr_occupation: Contributor Occupation, the job or profession of the contributor, if provided.\n",
    "- contb_receipt_amt: Contribution Receipt Amount, the dollar amount of the contribution.\n",
    "- contb_receipt_dt: Contribution Receipt Date, the date the contribution was received.\n",
    "- receipt_desc: Receipt Description, additional information or description about the receipt (optional).\n",
    "- memo_cd: Memo Code, a code used for internal processing or tracking within the committee (optional).\n",
    "- memo_text: Memo Text, text providing additional details related to the memo (optional).\n",
    "- form_tp: Form Type, the type of form used to report the contribution.\n",
    "- file_num: File Number, a unique identifier for the file in which this record is stored.\n",
    "- tran_id: Transaction ID, a unique identifier for the transaction.\n",
    "- election_tp: Election Type, indicating the type of election (e.g., primary, general) for which the contribution was made."
   ]
  },
  {
   "cell_type": "code",
   "execution_count": 76,
   "id": "ac20d1e7-e064-4e8b-8824-39b08ae9d850",
   "metadata": {},
   "outputs": [
    {
     "name": "stdout",
     "output_type": "stream",
     "text": [
      "     cmte_id    cand_id           cand_nm       contbr_nm contbr_city  \\\n",
      "0  C00828541  P80001571  Trump, Donald J.   WARD, WALLACE   HENDERSON   \n",
      "1  C00828541  P80001571  Trump, Donald J.   WARD, WALLACE   HENDERSON   \n",
      "2  C00828541  P80001571  Trump, Donald J.   WARD, WALLACE   HENDERSON   \n",
      "3  C00828541  P80001571  Trump, Donald J.  TOMAINO, PETER        RENO   \n",
      "4  C00828541  P80001571  Trump, Donald J.  TOMAINO, PETER        RENO   \n",
      "\n",
      "  contbr_st  contbr_zip contbr_employer contbr_occupation  contb_receipt_amt  \\\n",
      "0        NV       89052  IMA PUBLISHING            WRITER               99.0   \n",
      "1        NV       89052  IMA PUBLISHING            WRITER               90.0   \n",
      "2        NV       89052  IMA PUBLISHING            WRITER               90.0   \n",
      "3        NV       89511         RETIRED           RETIRED               99.0   \n",
      "4        NV       89511         RETIRED           RETIRED               99.0   \n",
      "\n",
      "  contb_receipt_dt                                       receipt_desc memo_cd  \\\n",
      "0        13-MAR-23  JFC TRANSFER: TRUMP SAVE AMERICA JOINT FUNDRAI...       X   \n",
      "1        23-MAR-23  JFC TRANSFER: TRUMP SAVE AMERICA JOINT FUNDRAI...       X   \n",
      "2        30-MAR-23  JFC TRANSFER: TRUMP SAVE AMERICA JOINT FUNDRAI...       X   \n",
      "3        31-JAN-23  JFC TRANSFER: TRUMP SAVE AMERICA JOINT FUNDRAI...       X   \n",
      "4        28-FEB-23  JFC TRANSFER: TRUMP SAVE AMERICA JOINT FUNDRAI...       X   \n",
      "\n",
      "  memo_text form_tp  file_num        tran_id election_tp  \n",
      "0       NaN    SA18   1700115  SA18.83480657       P2024  \n",
      "1       NaN    SA18   1700115  SA18.83575801       P2024  \n",
      "2       NaN    SA18   1700115  SA18.83619567       P2024  \n",
      "3       NaN    SA18   1700115  SA18.82828755       P2024  \n",
      "4       NaN    SA18   1700115  SA18.83003512       P2024  \n",
      "<class 'pandas.core.frame.DataFrame'>\n",
      "RangeIndex: 138387 entries, 0 to 138386\n",
      "Data columns (total 18 columns):\n",
      " #   Column             Non-Null Count   Dtype  \n",
      "---  ------             --------------   -----  \n",
      " 0   cmte_id            138387 non-null  object \n",
      " 1   cand_id            138387 non-null  object \n",
      " 2   cand_nm            138387 non-null  object \n",
      " 3   contbr_nm          138387 non-null  object \n",
      " 4   contbr_city        138387 non-null  object \n",
      " 5   contbr_st          138387 non-null  object \n",
      " 6   contbr_zip         138387 non-null  int64  \n",
      " 7   contbr_employer    137966 non-null  object \n",
      " 8   contbr_occupation  138158 non-null  object \n",
      " 9   contb_receipt_amt  138387 non-null  float64\n",
      " 10  contb_receipt_dt   138387 non-null  object \n",
      " 11  receipt_desc       95715 non-null   object \n",
      " 12  memo_cd            109294 non-null  object \n",
      " 13  memo_text          44294 non-null   object \n",
      " 14  form_tp            138387 non-null  object \n",
      " 15  file_num           138387 non-null  int64  \n",
      " 16  tran_id            138387 non-null  object \n",
      " 17  election_tp        138340 non-null  object \n",
      "dtypes: float64(1), int64(2), object(15)\n",
      "memory usage: 19.0+ MB\n",
      "None\n"
     ]
    }
   ],
   "source": [
    "file_path = \"P00000001-NV 3.csv\"\n",
    "df = pd.read_csv(file_path, delimiter=',',index_col=False)\n",
    "print(df.head())\n",
    "print(df.info())"
   ]
  },
  {
   "cell_type": "markdown",
   "id": "6b3f9494-26e1-4a3c-bb2f-1a1a7b8bd013",
   "metadata": {},
   "source": [
    "three things to look into:\n",
    "- "
   ]
  },
  {
   "cell_type": "code",
   "execution_count": 82,
   "id": "641f36ee-ffd3-48e0-93dc-36038bc33239",
   "metadata": {},
   "outputs": [
    {
     "name": "stdout",
     "output_type": "stream",
     "text": [
      "         tran_id election_tp contbr_city    cand_id           cand_nm  \\\n",
      "0  SA18.83480657       P2024   HENDERSON  P80001571  Trump, Donald J.   \n",
      "1  SA18.83575801       P2024   HENDERSON  P80001571  Trump, Donald J.   \n",
      "2  SA18.83619567       P2024   HENDERSON  P80001571  Trump, Donald J.   \n",
      "3  SA18.82828755       P2024        RENO  P80001571  Trump, Donald J.   \n",
      "4  SA18.83003512       P2024        RENO  P80001571  Trump, Donald J.   \n",
      "\n",
      "  contbr_zip  contb_receipt_amt  \n",
      "0      89052               99.0  \n",
      "1      89052               90.0  \n",
      "2      89052               90.0  \n",
      "3      89511               99.0  \n",
      "4      89511               99.0  \n"
     ]
    }
   ],
   "source": [
    "# Create Candidates table\n",
    "candidates_df = df[['cand_id', 'cand_nm', 'election_tp']].drop_duplicates().dropna()\n",
    "\n",
    "# Create Contributors table\n",
    "contributors_df = df[['contbr_nm', 'contbr_city', 'contbr_st', 'contbr_zip', \n",
    "                      'contbr_employer', 'contbr_occupation']].drop_duplicates().dropna()\n",
    "\n",
    "# Create Contributions table\n",
    "contributions_df = df[['cmte_id', 'cand_id', 'contb_receipt_amt', 'contb_receipt_dt', \n",
    "                       'receipt_desc', 'memo_cd', 'memo_text', 'tran_id', 'election_tp']].drop_duplicates().dropna()\n",
    "\n",
    "#Create Transactions table\n",
    "transactions_df = df[['tran_id', 'election_tp', 'contbr_city', 'cand_id', 'cand_nm', 'contbr_zip', 'contb_receipt_amt']].drop_duplicates().dropna()\n",
    "transactions_df['contbr_zip'] = transactions_df['contbr_zip'].astype(str).str.replace(r'[^0-9]', '', regex=True).str.slice(0, 5)\n",
    "print(transactions_df.head())"
   ]
  },
  {
   "cell_type": "code",
   "execution_count": 83,
   "id": "3ad0d1fb-da70-4378-98c8-740736bccc26",
   "metadata": {},
   "outputs": [
    {
     "name": "stdout",
     "output_type": "stream",
     "text": [
      "             tran_id election_tp      contbr_city    cand_id  \\\n",
      "7767         4308088       G2024        LAS VEGAS  P00009423   \n",
      "7866         4151391       G2024             RENO  P00009423   \n",
      "7969         4181297       G2024        HENDERSON  P00009423   \n",
      "7970         4265018       G2024        HENDERSON  P00009423   \n",
      "20398  SA18.99140539       G2024  NORTH LAS VEGAS  P80001571   \n",
      "\n",
      "                cand_nm contbr_zip  contb_receipt_amt  \n",
      "7767     Harris, Kamala      89123             3100.0  \n",
      "7866     Harris, Kamala      89502              700.0  \n",
      "7969     Harris, Kamala      89012              600.0  \n",
      "7970     Harris, Kamala      89012              374.0  \n",
      "20398  Trump, Donald J.      89033             3300.0  \n"
     ]
    }
   ],
   "source": [
    "general_election_df = transactions_df[\n",
    "    (transactions_df['election_tp'] == 'G2024') & \n",
    "    ((transactions_df['cand_nm'] == 'Trump, Donald J.') | \n",
    "     (transactions_df['cand_nm'] == 'Harris, Kamala') | (transactions_df['cand_nm'] == 'Stein, Jill') | \n",
    "     (transactions_df['cand_nm'] == 'West, Cornel')| (transactions_df['cand_nm'] == 'Oliver, Chase'))\n",
    "]\n",
    "#primary_election_df = transactions_df[transactions_df['election_tp'] == 'P2024']\n",
    "\n",
    "#candidates_df.head()\n",
    "#contributors_df.head()\n",
    "#contributions_df.head()\n",
    "#print(transactions_df)\n",
    "print(general_election_df.head())"
   ]
  },
  {
   "cell_type": "code",
   "execution_count": 86,
   "id": "f5a60359-c8bb-4be4-b312-a33f5837e4f8",
   "metadata": {},
   "outputs": [
    {
     "name": "stdout",
     "output_type": "stream",
     "text": [
      "            cand_nm  total_contributions  count  median   mode\n",
      "0    Harris, Kamala           2614664.64  23966   30.00  25.00\n",
      "1       Stein, Jill              2553.95     26   50.00  50.00\n",
      "2  Trump, Donald J.           1811502.26  25949   18.22  18.96\n",
      "3      West, Cornel                40.00      2   20.00  20.00\n"
     ]
    }
   ],
   "source": [
    "summary_df = general_election_df.groupby('cand_nm').agg(\n",
    "    total_contributions=('contb_receipt_amt', 'sum'),        \n",
    "    count=('contb_receipt_amt', 'count'),                    \n",
    "    median=('contb_receipt_amt', 'median'),                  \n",
    "    mode=('contb_receipt_amt', lambda x: x.mode()[0])      \n",
    ").reset_index()\n",
    "\n",
    "print(summary_df)"
   ]
  },
  {
   "cell_type": "code",
   "execution_count": null,
   "id": "8e726dac-7e7a-438f-90bc-3114a8c5f612",
   "metadata": {},
   "outputs": [],
   "source": []
  },
  {
   "cell_type": "code",
   "execution_count": null,
   "id": "07ae44fe-485f-42d4-bf83-6858369697ba",
   "metadata": {},
   "outputs": [],
   "source": []
  }
 ],
 "metadata": {
  "kernelspec": {
   "display_name": "Python 3 (ipykernel)",
   "language": "python",
   "name": "python3"
  },
  "language_info": {
   "codemirror_mode": {
    "name": "ipython",
    "version": 3
   },
   "file_extension": ".py",
   "mimetype": "text/x-python",
   "name": "python",
   "nbconvert_exporter": "python",
   "pygments_lexer": "ipython3",
   "version": "3.10.14"
  }
 },
 "nbformat": 4,
 "nbformat_minor": 5
}
